{
  "nbformat": 4,
  "nbformat_minor": 0,
  "metadata": {
    "colab": {
      "name": "Assignment4-Prog2-PySpark-RecipeNLG.ipynb",
      "provenance": [],
      "collapsed_sections": []
    },
    "kernelspec": {
      "name": "python3",
      "display_name": "Python 3"
    }
  },
  "cells": [
    {
      "cell_type": "markdown",
      "metadata": {
        "id": "y6B3Wlv8vOZq"
      },
      "source": [
        "Author: Behzad Barati\n",
        "\n",
        "Abstract:\n",
        "\n",
        "*   Data is about amont of rain in Lake_Bilancino area and flow rate of this lake in Italy.\n",
        "\n",
        "My Question:\n",
        "*   what is the relationship between amont of rains and flow rates \n",
        "\n",
        "___\n",
        "Hint:\n",
        "\n",
        "As PySpark has some issues with windows machines, I prefer to use cloud services(here google colab). I uploaded  dataset in my google drive. If you use regular machines, You can ignore mounting step."
      ]
    },
    {
      "cell_type": "markdown",
      "metadata": {
        "id": "YXzM9Guw8Wc4"
      },
      "source": [
        "# Import needed libraries"
      ]
    },
    {
      "cell_type": "code",
      "metadata": {
        "id": "Cwg3EmTR8brJ"
      },
      "source": [
        "# Install pandas_profiling library\n",
        "# pip install https://github.com/pandas-profiling/pandas-profiling/archive/master.zip\n",
        "\n",
        "import numpy as np\n",
        "import pandas as pd\n",
        "import matplotlib.pyplot as plt\n",
        "from google.colab import drive              # Mount google drive to colab notebook\n",
        "\n",
        "\n",
        "#pip install pyspark\n",
        "from pyspark.sql import SparkSession\n",
        "import pyspark.sql.functions as function\n"
      ],
      "execution_count": 2,
      "outputs": []
    },
    {
      "cell_type": "code",
      "metadata": {
        "id": "ytrTiQikvjZP",
        "colab": {
          "base_uri": "https://localhost:8080/"
        },
        "outputId": "f27bd680-127c-4b42-c04d-134a544624b8"
      },
      "source": [
        "# Mount google drive to colab notebook\n",
        "# Our dataset will be read as recipe_table.\n",
        "\n",
        "drive.mount('/content/gdrive', force_remount=True)"
      ],
      "execution_count": 3,
      "outputs": [
        {
          "output_type": "stream",
          "text": [
            "Mounted at /content/gdrive\n"
          ],
          "name": "stdout"
        }
      ]
    },
    {
      "cell_type": "code",
      "metadata": {
        "colab": {
          "base_uri": "https://localhost:8080/"
        },
        "id": "P4H_UOfNZTmO",
        "outputId": "1f19f362-bed3-4367-d65d-7d1b4e1e4cb2"
      },
      "source": [
        "cd gdrive/MyDrive/Projects/Assign4-Prog2"
      ],
      "execution_count": 4,
      "outputs": [
        {
          "output_type": "stream",
          "text": [
            "/content/gdrive/MyDrive/Projects/Assign4-Prog2\n"
          ],
          "name": "stdout"
        }
      ]
    },
    {
      "cell_type": "markdown",
      "metadata": {
        "id": "YhajIXMEaHe_"
      },
      "source": [
        "# Pyspark practice"
      ]
    },
    {
      "cell_type": "code",
      "metadata": {
        "id": "VUK6eazQaTME"
      },
      "source": [
        "spark = SparkSession.builder.appName(\"myFirstCSVLoad\").getOrCreate()"
      ],
      "execution_count": 5,
      "outputs": []
    },
    {
      "cell_type": "code",
      "metadata": {
        "id": "01X3V9G_apNz"
      },
      "source": [
        "df = spark.read.csv(path= './Lake_Bilancino.csv', sep= ',', header= True)"
      ],
      "execution_count": 6,
      "outputs": []
    },
    {
      "cell_type": "code",
      "metadata": {
        "id": "QOSUvTCvbFu4",
        "colab": {
          "base_uri": "https://localhost:8080/"
        },
        "outputId": "b1db32e2-4a45-4912-9062-2b7a27754ed7"
      },
      "source": [
        "df.printSchema()"
      ],
      "execution_count": 7,
      "outputs": [
        {
          "output_type": "stream",
          "text": [
            "root\n",
            " |-- Date: string (nullable = true)\n",
            " |-- Rainfall_S_Piero: string (nullable = true)\n",
            " |-- Rainfall_Mangona: string (nullable = true)\n",
            " |-- Rainfall_S_Agata: string (nullable = true)\n",
            " |-- Rainfall_Cavallina: string (nullable = true)\n",
            " |-- Rainfall_Le_Croci: string (nullable = true)\n",
            " |-- Temperature_Le_Croci: string (nullable = true)\n",
            " |-- Lake_Level: string (nullable = true)\n",
            " |-- Flow_Rate: string (nullable = true)\n",
            "\n"
          ],
          "name": "stdout"
        }
      ]
    },
    {
      "cell_type": "code",
      "metadata": {
        "colab": {
          "base_uri": "https://localhost:8080/"
        },
        "id": "XayT47RL-2Bt",
        "outputId": "bd525988-01ab-49ec-92c3-3818bc347487"
      },
      "source": [
        "df.show()"
      ],
      "execution_count": 8,
      "outputs": [
        {
          "output_type": "stream",
          "text": [
            "+----------+----------------+----------------+----------------+------------------+-----------------+--------------------+----------+---------+\n",
            "|      Date|Rainfall_S_Piero|Rainfall_Mangona|Rainfall_S_Agata|Rainfall_Cavallina|Rainfall_Le_Croci|Temperature_Le_Croci|Lake_Level|Flow_Rate|\n",
            "+----------+----------------+----------------+----------------+------------------+-----------------+--------------------+----------+---------+\n",
            "|03/06/2002|            null|            null|            null|              null|             null|                null|    249.43|     0.31|\n",
            "|04/06/2002|            null|            null|            null|              null|             null|                null|    249.43|     0.31|\n",
            "|05/06/2002|            null|            null|            null|              null|             null|                null|    249.43|     0.31|\n",
            "|06/06/2002|            null|            null|            null|              null|             null|                null|    249.43|     0.31|\n",
            "|07/06/2002|            null|            null|            null|              null|             null|                null|    249.44|     0.31|\n",
            "|08/06/2002|            null|            null|            null|              null|             null|                null|    249.56|     0.38|\n",
            "|09/06/2002|            null|            null|            null|              null|             null|                null|    249.57|     0.38|\n",
            "|10/06/2002|            null|            null|            null|              null|             null|                null|    249.58|     0.48|\n",
            "|11/06/2002|            null|            null|            null|              null|             null|                null|    249.57|     0.48|\n",
            "|12/06/2002|            null|            null|            null|              null|             null|                null|    249.57|     0.48|\n",
            "|13/06/2002|            null|            null|            null|              null|             null|                null|    249.57|     0.48|\n",
            "|14/06/2002|            null|            null|            null|              null|             null|                null|    249.57|     0.48|\n",
            "|15/06/2002|            null|            null|            null|              null|             null|                null|    249.57|     0.48|\n",
            "|16/06/2002|            null|            null|            null|              null|             null|                null|    249.56|     0.48|\n",
            "|17/06/2002|            null|            null|            null|              null|             null|                null|    249.56|     0.48|\n",
            "|18/06/2002|            null|            null|            null|              null|             null|                null|    249.56|     0.48|\n",
            "|19/06/2002|            null|            null|            null|              null|             null|                null|    249.55|     0.48|\n",
            "|20/06/2002|            null|            null|            null|              null|             null|                null|    249.55|     0.48|\n",
            "|21/06/2002|            null|            null|            null|              null|             null|                null|    249.54|     0.48|\n",
            "|22/06/2002|            null|            null|            null|              null|             null|                null|    249.53|     0.48|\n",
            "+----------+----------------+----------------+----------------+------------------+-----------------+--------------------+----------+---------+\n",
            "only showing top 20 rows\n",
            "\n"
          ],
          "name": "stdout"
        }
      ]
    },
    {
      "cell_type": "code",
      "metadata": {
        "colab": {
          "base_uri": "https://localhost:8080/"
        },
        "id": "2L6K83RMI6V1",
        "outputId": "1f097df9-dbeb-4a87-e587-d7ec4f339432"
      },
      "source": [
        "df.count()"
      ],
      "execution_count": 9,
      "outputs": [
        {
          "output_type": "execute_result",
          "data": {
            "text/plain": [
              "6603"
            ]
          },
          "metadata": {
            "tags": []
          },
          "execution_count": 9
        }
      ]
    },
    {
      "cell_type": "code",
      "metadata": {
        "colab": {
          "base_uri": "https://localhost:8080/"
        },
        "id": "Px4W5GYZxnK1",
        "outputId": "d59b58e9-843d-4a05-b90f-41f8c0903eec"
      },
      "source": [
        "df.columns"
      ],
      "execution_count": 10,
      "outputs": [
        {
          "output_type": "execute_result",
          "data": {
            "text/plain": [
              "['Date',\n",
              " 'Rainfall_S_Piero',\n",
              " 'Rainfall_Mangona',\n",
              " 'Rainfall_S_Agata',\n",
              " 'Rainfall_Cavallina',\n",
              " 'Rainfall_Le_Croci',\n",
              " 'Temperature_Le_Croci',\n",
              " 'Lake_Level',\n",
              " 'Flow_Rate']"
            ]
          },
          "metadata": {
            "tags": []
          },
          "execution_count": 10
        }
      ]
    },
    {
      "cell_type": "code",
      "metadata": {
        "colab": {
          "base_uri": "https://localhost:8080/"
        },
        "id": "Aucwj5aZ_NTs",
        "outputId": "307150c0-70f5-426a-97a0-5155fa0c3882"
      },
      "source": [
        "# drop rows which have NA values\n",
        "\n",
        "df = df.na.drop()\n",
        "df.show()"
      ],
      "execution_count": 11,
      "outputs": [
        {
          "output_type": "stream",
          "text": [
            "+----------+----------------+----------------+----------------+------------------+-----------------+--------------------+----------+---------+\n",
            "|      Date|Rainfall_S_Piero|Rainfall_Mangona|Rainfall_S_Agata|Rainfall_Cavallina|Rainfall_Le_Croci|Temperature_Le_Croci|Lake_Level|Flow_Rate|\n",
            "+----------+----------------+----------------+----------------+------------------+-----------------+--------------------+----------+---------+\n",
            "|02/01/2004|               0|               0|               0|                 0|                0|                 6.5|    251.21|      0.5|\n",
            "|03/01/2004|               0|               0|               0|                 0|                0|                4.45|    251.28|      0.5|\n",
            "|04/01/2004|               0|               0|               0|                 0|                0|                   2|    251.35|      0.5|\n",
            "|05/01/2004|             0.2|               0|               0|                 0|                0|                 0.9|    251.37|      0.5|\n",
            "|06/01/2004|               0|               0|               0|                 0|                0|                2.25|    251.42|      0.5|\n",
            "|07/01/2004|               0|               0|               0|                 0|                0|                3.65|    251.43|      0.5|\n",
            "|08/01/2004|               0|             0.8|               0|                 0|                0|                3.35|    251.45|      0.5|\n",
            "|09/01/2004|             4.6|             5.8|             3.8|               5.6|              7.8|                5.55|    251.49|      0.5|\n",
            "|10/01/2004|               0|               0|               0|                 0|                0|                 6.1|    251.52|      0.5|\n",
            "|11/01/2004|               0|               0|               0|                 0|                0|                6.25|    251.53|      0.5|\n",
            "|12/01/2004|             1.8|             1.6|             1.2|               3.4|              3.6|                 6.7|    251.55|      0.5|\n",
            "|13/01/2004|             0.4|             2.6|             0.8|               1.2|              0.6|                 8.6|    251.58|      0.5|\n",
            "|14/01/2004|               0|             0.2|               0|                 0|                0|                12.2|    251.59|      0.5|\n",
            "|15/01/2004|               7|              13|              10|               8.8|                6|                 9.1|    251.64|      0.5|\n",
            "|16/01/2004|             3.2|            11.4|             4.6|               5.6|              4.4|                5.45|     251.7|      0.5|\n",
            "|17/01/2004|            19.6|            49.6|            20.2|              36.4|             18.2|                 4.9|     251.8|     21.6|\n",
            "|18/01/2004|              27|            40.2|            26.6|              25.2|             24.8|                8.35|    252.32|     32.8|\n",
            "|19/01/2004|               0|               0|               0|               0.2|                0|                5.55|    252.21|       37|\n",
            "|20/01/2004|             0.2|               0|               0|                 0|                0|                3.15|    252.05|       19|\n",
            "|21/01/2004|               0|               0|               0|                 0|                0|                 4.2|    251.98|     11.5|\n",
            "+----------+----------------+----------------+----------------+------------------+-----------------+--------------------+----------+---------+\n",
            "only showing top 20 rows\n",
            "\n"
          ],
          "name": "stdout"
        }
      ]
    },
    {
      "cell_type": "code",
      "metadata": {
        "id": "tS2ZoTvCAxFq"
      },
      "source": [
        "# list of columns related to amont of rain\n",
        "\n",
        "Rain_columns = ['Rainfall_S_Piero', 'Rainfall_Mangona', 'Rainfall_S_Agata', 'Rainfall_Cavallina', 'Rainfall_Le_Croci',]"
      ],
      "execution_count": 12,
      "outputs": []
    },
    {
      "cell_type": "code",
      "metadata": {
        "colab": {
          "base_uri": "https://localhost:8080/"
        },
        "id": "PBijQ-RkBJZZ",
        "outputId": "e96857c3-4a22-4dbf-f627-e3032462bfc3"
      },
      "source": [
        "# Sum multiple colomns to create new Sum of rains\n",
        "\n",
        "df = df.withColumn('sum_rain', sum(df[col] for col in Rain_columns))\n",
        "df.show()"
      ],
      "execution_count": 13,
      "outputs": [
        {
          "output_type": "stream",
          "text": [
            "+----------+----------------+----------------+----------------+------------------+-----------------+--------------------+----------+---------+------------------+\n",
            "|      Date|Rainfall_S_Piero|Rainfall_Mangona|Rainfall_S_Agata|Rainfall_Cavallina|Rainfall_Le_Croci|Temperature_Le_Croci|Lake_Level|Flow_Rate|          sum_rain|\n",
            "+----------+----------------+----------------+----------------+------------------+-----------------+--------------------+----------+---------+------------------+\n",
            "|02/01/2004|               0|               0|               0|                 0|                0|                 6.5|    251.21|      0.5|               0.0|\n",
            "|03/01/2004|               0|               0|               0|                 0|                0|                4.45|    251.28|      0.5|               0.0|\n",
            "|04/01/2004|               0|               0|               0|                 0|                0|                   2|    251.35|      0.5|               0.0|\n",
            "|05/01/2004|             0.2|               0|               0|                 0|                0|                 0.9|    251.37|      0.5|               0.2|\n",
            "|06/01/2004|               0|               0|               0|                 0|                0|                2.25|    251.42|      0.5|               0.0|\n",
            "|07/01/2004|               0|               0|               0|                 0|                0|                3.65|    251.43|      0.5|               0.0|\n",
            "|08/01/2004|               0|             0.8|               0|                 0|                0|                3.35|    251.45|      0.5|               0.8|\n",
            "|09/01/2004|             4.6|             5.8|             3.8|               5.6|              7.8|                5.55|    251.49|      0.5|27.599999999999998|\n",
            "|10/01/2004|               0|               0|               0|                 0|                0|                 6.1|    251.52|      0.5|               0.0|\n",
            "|11/01/2004|               0|               0|               0|                 0|                0|                6.25|    251.53|      0.5|               0.0|\n",
            "|12/01/2004|             1.8|             1.6|             1.2|               3.4|              3.6|                 6.7|    251.55|      0.5|              11.6|\n",
            "|13/01/2004|             0.4|             2.6|             0.8|               1.2|              0.6|                 8.6|    251.58|      0.5|               5.6|\n",
            "|14/01/2004|               0|             0.2|               0|                 0|                0|                12.2|    251.59|      0.5|               0.2|\n",
            "|15/01/2004|               7|              13|              10|               8.8|                6|                 9.1|    251.64|      0.5|              44.8|\n",
            "|16/01/2004|             3.2|            11.4|             4.6|               5.6|              4.4|                5.45|     251.7|      0.5|29.200000000000003|\n",
            "|17/01/2004|            19.6|            49.6|            20.2|              36.4|             18.2|                 4.9|     251.8|     21.6|             144.0|\n",
            "|18/01/2004|              27|            40.2|            26.6|              25.2|             24.8|                8.35|    252.32|     32.8|             143.8|\n",
            "|19/01/2004|               0|               0|               0|               0.2|                0|                5.55|    252.21|       37|               0.2|\n",
            "|20/01/2004|             0.2|               0|               0|                 0|                0|                3.15|    252.05|       19|               0.2|\n",
            "|21/01/2004|               0|               0|               0|                 0|                0|                 4.2|    251.98|     11.5|               0.0|\n",
            "+----------+----------------+----------------+----------------+------------------+-----------------+--------------------+----------+---------+------------------+\n",
            "only showing top 20 rows\n",
            "\n"
          ],
          "name": "stdout"
        }
      ]
    },
    {
      "cell_type": "code",
      "metadata": {
        "colab": {
          "base_uri": "https://localhost:8080/"
        },
        "id": "IZB__aXBDlCg",
        "outputId": "79c1cdf3-7d91-4ccf-e805-0d861ee6fdd8"
      },
      "source": [
        "df.withColumn('Rainy_day', function.when(function.col('sum_rain') > 270, \"Yes\").otherwise(\"No\")).show()"
      ],
      "execution_count": 14,
      "outputs": [
        {
          "output_type": "stream",
          "text": [
            "+----------+----------------+----------------+----------------+------------------+-----------------+--------------------+----------+---------+------------------+---------+\n",
            "|      Date|Rainfall_S_Piero|Rainfall_Mangona|Rainfall_S_Agata|Rainfall_Cavallina|Rainfall_Le_Croci|Temperature_Le_Croci|Lake_Level|Flow_Rate|          sum_rain|Rainy_day|\n",
            "+----------+----------------+----------------+----------------+------------------+-----------------+--------------------+----------+---------+------------------+---------+\n",
            "|02/01/2004|               0|               0|               0|                 0|                0|                 6.5|    251.21|      0.5|               0.0|       No|\n",
            "|03/01/2004|               0|               0|               0|                 0|                0|                4.45|    251.28|      0.5|               0.0|       No|\n",
            "|04/01/2004|               0|               0|               0|                 0|                0|                   2|    251.35|      0.5|               0.0|       No|\n",
            "|05/01/2004|             0.2|               0|               0|                 0|                0|                 0.9|    251.37|      0.5|               0.2|       No|\n",
            "|06/01/2004|               0|               0|               0|                 0|                0|                2.25|    251.42|      0.5|               0.0|       No|\n",
            "|07/01/2004|               0|               0|               0|                 0|                0|                3.65|    251.43|      0.5|               0.0|       No|\n",
            "|08/01/2004|               0|             0.8|               0|                 0|                0|                3.35|    251.45|      0.5|               0.8|       No|\n",
            "|09/01/2004|             4.6|             5.8|             3.8|               5.6|              7.8|                5.55|    251.49|      0.5|27.599999999999998|       No|\n",
            "|10/01/2004|               0|               0|               0|                 0|                0|                 6.1|    251.52|      0.5|               0.0|       No|\n",
            "|11/01/2004|               0|               0|               0|                 0|                0|                6.25|    251.53|      0.5|               0.0|       No|\n",
            "|12/01/2004|             1.8|             1.6|             1.2|               3.4|              3.6|                 6.7|    251.55|      0.5|              11.6|       No|\n",
            "|13/01/2004|             0.4|             2.6|             0.8|               1.2|              0.6|                 8.6|    251.58|      0.5|               5.6|       No|\n",
            "|14/01/2004|               0|             0.2|               0|                 0|                0|                12.2|    251.59|      0.5|               0.2|       No|\n",
            "|15/01/2004|               7|              13|              10|               8.8|                6|                 9.1|    251.64|      0.5|              44.8|       No|\n",
            "|16/01/2004|             3.2|            11.4|             4.6|               5.6|              4.4|                5.45|     251.7|      0.5|29.200000000000003|       No|\n",
            "|17/01/2004|            19.6|            49.6|            20.2|              36.4|             18.2|                 4.9|     251.8|     21.6|             144.0|       No|\n",
            "|18/01/2004|              27|            40.2|            26.6|              25.2|             24.8|                8.35|    252.32|     32.8|             143.8|       No|\n",
            "|19/01/2004|               0|               0|               0|               0.2|                0|                5.55|    252.21|       37|               0.2|       No|\n",
            "|20/01/2004|             0.2|               0|               0|                 0|                0|                3.15|    252.05|       19|               0.2|       No|\n",
            "|21/01/2004|               0|               0|               0|                 0|                0|                 4.2|    251.98|     11.5|               0.0|       No|\n",
            "+----------+----------------+----------------+----------------+------------------+-----------------+--------------------+----------+---------+------------------+---------+\n",
            "only showing top 20 rows\n",
            "\n"
          ],
          "name": "stdout"
        }
      ]
    },
    {
      "cell_type": "code",
      "metadata": {
        "colab": {
          "base_uri": "https://localhost:8080/"
        },
        "id": "FSaotlTWGJaz",
        "outputId": "a8f28a62-4c2a-49cb-ea70-88bf42820049"
      },
      "source": [
        "# Filter data based on if we have very rainy day. but i do not want to rewrite this df.\n",
        "\n",
        "df.filter('sum_rain > 350').show()"
      ],
      "execution_count": 15,
      "outputs": [
        {
          "output_type": "stream",
          "text": [
            "+----------+----------------+----------------+----------------+------------------+-----------------+--------------------+----------+---------+--------+\n",
            "|      Date|Rainfall_S_Piero|Rainfall_Mangona|Rainfall_S_Agata|Rainfall_Cavallina|Rainfall_Le_Croci|Temperature_Le_Croci|Lake_Level|Flow_Rate|sum_rain|\n",
            "+----------+----------------+----------------+----------------+------------------+-----------------+--------------------+----------+---------+--------+\n",
            "|22/12/2009|            71.8|            90.6|            77.8|                77|             61.2|                 4.7|     246.4|      0.6|   378.4|\n",
            "|20/09/2014|            52.4|            56.4|           102.4|             113.6|             51.6|                21.1|    248.96|        1|   376.4|\n",
            "|15/09/2016|            80.6|           102.8|            83.8|              91.8|             66.6|               19.75|    247.77|        3|   425.6|\n",
            "|09/09/2017|            52.8|            86.6|            69.4|              86.8|             88.4|                16.4|    247.22|      2.5|   384.0|\n",
            "+----------+----------------+----------------+----------------+------------------+-----------------+--------------------+----------+---------+--------+\n",
            "\n"
          ],
          "name": "stdout"
        }
      ]
    }
  ]
}